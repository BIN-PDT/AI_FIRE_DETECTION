{
  "cells": [
    {
      "cell_type": "code",
      "execution_count": null,
      "metadata": {
        "colab": {
          "base_uri": "https://localhost:8080/"
        },
        "id": "0affYxj_iFeK",
        "outputId": "1c026ac4-985d-4a79-cecb-e8c64da0eb36"
      },
      "outputs": [],
      "source": [
        "from google.colab import drive\n",
        "drive.mount('/content/drive')"
      ]
    },
    {
      "cell_type": "markdown",
      "metadata": {
        "id": "SuqVqg7IE3Bz"
      },
      "source": [
        "# **INSTALL DEPENDENCY**"
      ]
    },
    {
      "cell_type": "code",
      "execution_count": null,
      "metadata": {
        "colab": {
          "base_uri": "https://localhost:8080/"
        },
        "id": "xyj3Hc22E-Ow",
        "outputId": "97c0a5bb-b391-4279-be7e-275e82508506"
      },
      "outputs": [],
      "source": [
        "!pip install -q albumentations==1.4\n",
        "!pip install -q git+https://github.com/THU-MIG/yolov10\n",
        "!pip install -q roboflow"
      ]
    },
    {
      "cell_type": "markdown",
      "metadata": {
        "id": "fYk9dbrsFG_p"
      },
      "source": [
        "# **DOWNLOAD PRETRAINED MODEL**"
      ]
    },
    {
      "cell_type": "code",
      "execution_count": null,
      "metadata": {
        "colab": {
          "base_uri": "https://localhost:8080/"
        },
        "id": "13qSOn-zFKvV",
        "outputId": "33dc91d6-e183-4c46-c424-d5a3b8e33bf7"
      },
      "outputs": [],
      "source": [
        "!wget -P '/content/pretrained' 'https://github.com/jameslahm/yolov10/releases/download/v1.1/yolov10n.pt'\n",
        "!wget -P '/content/pretrained' 'https://github.com/jameslahm/yolov10/releases/download/v1.1/yolov10s.pt'\n",
        "!wget -P '/content/pretrained' 'https://github.com/jameslahm/yolov10/releases/download/v1.1/yolov10m.pt'\n",
        "!wget -P '/content/pretrained' 'https://github.com/jameslahm/yolov10/releases/download/v1.1/yolov10b.pt'\n",
        "!wget -P '/content/pretrained' 'https://github.com/jameslahm/yolov10/releases/download/v1.1/yolov10l.pt'\n",
        "!wget -P '/content/pretrained' 'https://github.com/jameslahm/yolov10/releases/download/v1.1/yolov10x.pt'"
      ]
    },
    {
      "cell_type": "markdown",
      "metadata": {
        "id": "uvOB7LVRFPPf"
      },
      "source": [
        "# **DOWNLOAD DATASET FROM ROBOFLOW**"
      ]
    },
    {
      "cell_type": "code",
      "execution_count": null,
      "metadata": {
        "colab": {
          "base_uri": "https://localhost:8080/"
        },
        "id": "MXH-xbabFTMy",
        "outputId": "27456d2c-a0d5-42d5-c4a3-fd5c0aa66f58"
      },
      "outputs": [],
      "source": [
        "from roboflow import Roboflow\n",
        "\n",
        "\n",
        "ROBOFLOW_KEY = \"API_KEY\"\n",
        "DATASET_PATH = \"/content/dataset\"\n",
        "\n",
        "rf = Roboflow(api_key=ROBOFLOW_KEY)\n",
        "project = rf.workspace(\"binbin-iz5rn\").project(\"fire_detection-ckgf5\")\n",
        "version = project.version(1)\n",
        "dataset = version.download(\"yolov9\", location=DATASET_PATH, overwrite=True)"
      ]
    },
    {
      "cell_type": "markdown",
      "metadata": {
        "id": "zPL-w18KFobo"
      },
      "source": [
        "# **TRAIN MODEL**"
      ]
    },
    {
      "cell_type": "code",
      "execution_count": null,
      "metadata": {
        "colab": {
          "base_uri": "https://localhost:8080/"
        },
        "collapsed": true,
        "id": "zNb85WEcFtIF",
        "outputId": "92df2777-1286-463d-c54e-b822989a04ae"
      },
      "outputs": [],
      "source": [
        "!yolo task=detect mode=train \\\n",
        "data='/content/dataset/data.yaml' \\\n",
        "model='/content/pretrained/yolov10n.pt' \\\n",
        "epochs=30 batch=16 plots=True"
      ]
    },
    {
      "cell_type": "markdown",
      "metadata": {
        "id": "tGHHGU5gF0Bl"
      },
      "source": [
        "# **EVALUATE MODEL**"
      ]
    },
    {
      "cell_type": "code",
      "execution_count": null,
      "metadata": {
        "colab": {
          "base_uri": "https://localhost:8080/"
        },
        "collapsed": true,
        "id": "4CWt3NjiF8V0",
        "outputId": "87915c16-676a-4abb-b0d6-2cc872613cf3"
      },
      "outputs": [],
      "source": [
        "from ultralytics import YOLOv10\n",
        "\n",
        "\n",
        "MODEL_PATH = \"/content/runs/detect/train/weights/last.pt\"\n",
        "IMAGE_PATH = \"/content/dataset/test/images\"\n",
        "\n",
        "model = YOLOv10(MODEL_PATH)\n",
        "results = model.predict(source=IMAGE_PATH, conf=0.5, save=True)"
      ]
    }
  ],
  "metadata": {
    "accelerator": "GPU",
    "colab": {
      "collapsed_sections": [
        "SuqVqg7IE3Bz",
        "fYk9dbrsFG_p",
        "uvOB7LVRFPPf"
      ],
      "gpuType": "T4",
      "provenance": []
    },
    "kernelspec": {
      "display_name": "Python 3",
      "name": "python3"
    },
    "language_info": {
      "name": "python"
    }
  },
  "nbformat": 4,
  "nbformat_minor": 0
}
