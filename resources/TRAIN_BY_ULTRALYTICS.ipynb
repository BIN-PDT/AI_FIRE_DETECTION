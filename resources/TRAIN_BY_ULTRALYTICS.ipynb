{
  "cells": [
    {
      "cell_type": "code",
      "execution_count": null,
      "metadata": {
        "colab": {
          "base_uri": "https://localhost:8080/"
        },
        "id": "0affYxj_iFeK",
        "outputId": "458c74a6-275b-4318-ed01-24934ab2afbb"
      },
      "outputs": [],
      "source": [
        "from google.colab import drive\n",
        "drive.mount('/content/drive')"
      ]
    },
    {
      "cell_type": "markdown",
      "metadata": {
        "id": "SuqVqg7IE3Bz"
      },
      "source": [
        "# **INSTALL DEPENDENCY**"
      ]
    },
    {
      "cell_type": "code",
      "execution_count": null,
      "metadata": {
        "colab": {
          "base_uri": "https://localhost:8080/"
        },
        "collapsed": true,
        "id": "xyj3Hc22E-Ow",
        "outputId": "eaf383c8-69f3-49f8-be45-3c16c8b19271"
      },
      "outputs": [],
      "source": [
        "!pip install -q ultralytics\n",
        "!pip install -q roboflow"
      ]
    },
    {
      "cell_type": "markdown",
      "metadata": {
        "id": "fYk9dbrsFG_p"
      },
      "source": [
        "# **DOWNLOAD PRETRAINED MODEL**"
      ]
    },
    {
      "cell_type": "code",
      "execution_count": null,
      "metadata": {
        "colab": {
          "base_uri": "https://localhost:8080/"
        },
        "collapsed": true,
        "id": "13qSOn-zFKvV",
        "outputId": "0622ef29-fa4e-47ae-a4e0-7c305d55867d"
      },
      "outputs": [],
      "source": [
        "!wget -P '/content/pretrained' 'https://github.com/ultralytics/assets/releases/download/v8.2.0/yolov10n.pt'\n",
        "!wget -P '/content/pretrained' 'https://github.com/ultralytics/assets/releases/download/v8.2.0/yolov10s.pt'\n",
        "!wget -P '/content/pretrained' 'https://github.com/ultralytics/assets/releases/download/v8.2.0/yolov10m.pt'\n",
        "!wget -P '/content/pretrained' 'https://github.com/ultralytics/assets/releases/download/v8.2.0/yolov10b.pt'\n",
        "!wget -P '/content/pretrained' 'https://github.com/ultralytics/assets/releases/download/v8.2.0/yolov10l.pt'\n",
        "!wget -P '/content/pretrained' 'https://github.com/ultralytics/assets/releases/download/v8.2.0/yolov10x.pt'"
      ]
    },
    {
      "cell_type": "markdown",
      "metadata": {
        "id": "uvOB7LVRFPPf"
      },
      "source": [
        "# **DOWNLOAD DATASET FROM ROBOFLOW**"
      ]
    },
    {
      "cell_type": "code",
      "execution_count": null,
      "metadata": {
        "colab": {
          "base_uri": "https://localhost:8080/"
        },
        "collapsed": true,
        "id": "MXH-xbabFTMy",
        "outputId": "22c8c33c-8c76-46d8-d7e3-bc447733074e"
      },
      "outputs": [],
      "source": [
        "from roboflow import Roboflow\n",
        "\n",
        "\n",
        "ROBOFLOW_KEY = \"API_KEY\"\n",
        "DATASET_PATH = \"/content/dataset\"\n",
        "\n",
        "rf = Roboflow(api_key=ROBOFLOW_KEY)\n",
        "project = rf.workspace(\"binbin-iz5rn\").project(\"fire_detection-ckgf5\")\n",
        "version = project.version(1)\n",
        "dataset = version.download(\"yolov9\", location=DATASET_PATH, overwrite=True)"
      ]
    },
    {
      "cell_type": "markdown",
      "metadata": {
        "id": "zPL-w18KFobo"
      },
      "source": [
        "# **TRAIN MODEL**"
      ]
    },
    {
      "cell_type": "code",
      "execution_count": null,
      "metadata": {
        "colab": {
          "base_uri": "https://localhost:8080/"
        },
        "collapsed": true,
        "id": "zNb85WEcFtIF",
        "outputId": "280bb8d0-9c57-4bcd-a7f2-828fbbec6c24"
      },
      "outputs": [],
      "source": [
        "!yolo task=detect mode=train \\\n",
        "data='/content/dataset/data.yaml' \\\n",
        "model='/content/pretrained/yolov10n.pt' \\\n",
        "epochs=30 batch=16 plots=True"
      ]
    },
    {
      "cell_type": "markdown",
      "metadata": {
        "id": "tGHHGU5gF0Bl"
      },
      "source": [
        "# **EVALUATE MODEL**"
      ]
    },
    {
      "cell_type": "code",
      "execution_count": null,
      "metadata": {
        "colab": {
          "base_uri": "https://localhost:8080/"
        },
        "collapsed": true,
        "id": "4CWt3NjiF8V0",
        "outputId": "f9e783f4-a007-4e06-8655-b3fcd21aa6d2"
      },
      "outputs": [],
      "source": [
        "from ultralytics import YOLO\n",
        "\n",
        "\n",
        "MODEL_PATH = \"/content/runs/detect/train/weights/last.pt\"\n",
        "IMAGE_PATH = \"/content/dataset/test/images\"\n",
        "\n",
        "model = YOLO(MODEL_PATH)\n",
        "results = model.predict(source=IMAGE_PATH, conf=0.5, save=True)"
      ]
    }
  ],
  "metadata": {
    "accelerator": "GPU",
    "colab": {
      "collapsed_sections": [
        "SuqVqg7IE3Bz",
        "fYk9dbrsFG_p",
        "uvOB7LVRFPPf"
      ],
      "gpuType": "T4",
      "provenance": []
    },
    "kernelspec": {
      "display_name": "Python 3",
      "name": "python3"
    },
    "language_info": {
      "name": "python"
    }
  },
  "nbformat": 4,
  "nbformat_minor": 0
}
